{
  "cells": [
    {
      "cell_type": "markdown",
      "source": [
        "# 12 Advanced Recurrent Neural Networks\n",
        "\n",
        "Advanced Neural Network architectures represent significant advancements in the field of deep learning, which are most used in the domain of sequence modeling and processing. These architectures build upon the traditional feedforward neural networks and introduce recurrent connections, allowing them to exhibit temporal dynamics and memory capabilities.\n",
        "\n",
        "* The Elman RNN employs a simple recurrent loop in its hidden layer, enabling it to capture short-term temporal dependencies, making it suitable for applications such as speech recognition and time series analysis.\n",
        "* The Jordan RNN possesses feedback connections from the output layer to the hidden layer, rendering it capable of modeling longer-term dependencies, which finds applications in machine translation and language modeling tasks.\n",
        "* The Bidirectional RNN combines both forward and backward temporal processing, allowing it to consider both past and future context in its predictions, making it effective in natural language processing tasks such as sentiment analysis and named entity recognition.\n",
        "\n",
        "These advanced neural network architectures significantly expand the modeling capabilities of traditional neural networks and have become indispensable tools in various sequential data processing applications."
      ],
      "metadata": {
        "collapsed": false,
        "id": "DwsvnB8CXyjK"
      }
    },
    {
      "cell_type": "markdown",
      "source": [
        "### Exercise\n",
        "Use the IMDB movie reviews dataset to perform sentiment analysis with a Elman, Jordan and Bidirectional RNN.\n",
        "Highlight the differences on the performance of each architecture."
      ],
      "metadata": {
        "collapsed": false,
        "id": "a41CtIL0XyjO"
      }
    },
    {
      "cell_type": "code",
      "execution_count": 23,
      "metadata": {
        "collapsed": true,
        "id": "FSFB7rdjXyjP"
      },
      "outputs": [],
      "source": [
        "from keras.datasets import imdb\n",
        "from keras.preprocessing import sequence\n",
        "from keras.models import Sequential\n",
        "from keras.layers import Embedding, SimpleRNN, Dense, Bidirectional"
      ]
    },
    {
      "cell_type": "code",
      "source": [
        "from tensorflow.keras.layers import GlobalMaxPooling1D"
      ],
      "metadata": {
        "id": "C0ARBUsuiVBb"
      },
      "execution_count": 39,
      "outputs": []
    },
    {
      "cell_type": "markdown",
      "source": [
        "1. Load the IMDB movie reviews dataset"
      ],
      "metadata": {
        "collapsed": false,
        "id": "Sn1S8IejXyjS"
      }
    },
    {
      "cell_type": "code",
      "execution_count": 24,
      "outputs": [],
      "source": [
        "max_features = 5000  # Number of words to consider as features\n",
        "max_len_short = 100  # Maximum sequence length for short sequences\n",
        "max_len_long = 500   # Maximum sequence length for long sequences\n",
        "\n",
        "(x_train, y_train), (x_test, y_test) = imdb.load_data(num_words=max_features)"
      ],
      "metadata": {
        "id": "ZB4RUyDJXyjS"
      }
    },
    {
      "cell_type": "code",
      "source": [
        "from tensorflow.keras.preprocessing.sequence import pad_sequences\n"
      ],
      "metadata": {
        "id": "SdfvmLfYbcH1"
      },
      "execution_count": 25,
      "outputs": []
    },
    {
      "cell_type": "markdown",
      "source": [
        "2. Pad sequences to a fixed length for RNN input"
      ],
      "metadata": {
        "collapsed": false,
        "id": "6IH94ht3XyjT"
      }
    },
    {
      "cell_type": "code",
      "execution_count": 26,
      "outputs": [],
      "source": [
        "x_train_short = pad_sequences(x_train, maxlen=max_len_short)\n",
        "x_test_short = pad_sequences(x_test, maxlen=max_len_short)\n",
        "\n",
        "x_train_long = pad_sequences(x_train, maxlen=max_len_long)\n",
        "x_test_long = pad_sequences(x_test, maxlen=max_len_long)"
      ],
      "metadata": {
        "id": "MBHYU2iiXyjU"
      }
    },
    {
      "cell_type": "markdown",
      "source": [
        "3. Build the distinct RNN models"
      ],
      "metadata": {
        "collapsed": false,
        "id": "GEgeaVMvXyjV"
      }
    },
    {
      "cell_type": "code",
      "execution_count": 33,
      "outputs": [],
      "source": [
        "def build_elman_rnn_model():\n",
        "    model = Sequential()\n",
        "    model.add(Embedding(max_features, 32))\n",
        "    model.add(SimpleRNN(32, activation='relu'))\n",
        "    model.add(Dense(1, activation='sigmoid'))\n",
        "    return model\n",
        "\n",
        "def build_jordan_rnn_model():\n",
        "    model = Sequential()\n",
        "    model.add(Embedding(max_features, 32))\n",
        "    model.add(SimpleRNN(32, activation='relu', return_sequences=True))\n",
        "    model.add(GlobalMaxPooling1D())\n",
        "    model.add(Dense(1, activation='sigmoid'))\n",
        "    return model\n",
        "\n",
        "\n",
        "\n",
        "#def build_jordan_rnn_model():\n",
        "#    model = Sequential()\n",
        "#    model.add(Embedding(max_features, 32))\n",
        "#    model.add(SimpleRNN(32, activation='relu', return_sequences=True))\n",
        "#    model.add(Dense(1, activation='sigmoid'))\n",
        "#    return model\n",
        "\n",
        "def build_bidirectional_rnn_model():\n",
        "    model = Sequential()\n",
        "    model.add(Embedding(max_features, 32))\n",
        "    model.add(Bidirectional(SimpleRNN(32, activation='relu')))\n",
        "    model.add(Dense(1, activation='sigmoid'))\n",
        "    return model"
      ],
      "metadata": {
        "id": "jlJjlSEnXyjV"
      }
    },
    {
      "cell_type": "markdown",
      "source": [
        "4. Train and evaluate the RNN model"
      ],
      "metadata": {
        "collapsed": false,
        "id": "hXJbh7USXyjW"
      }
    },
    {
      "cell_type": "code",
      "execution_count": 34,
      "outputs": [],
      "source": [
        "def train_and_evaluate_model(model, x_train, y_train, x_test, y_test):\n",
        "    model.compile(optimizer='adam', loss='binary_crossentropy', metrics=['accuracy'])\n",
        "    history = model.fit(x_train, y_train, epochs=5, batch_size=128, validation_split=0.2)\n",
        "    loss, accuracy = model.evaluate(x_test, y_test)\n",
        "    return loss, accuracy, history"
      ],
      "metadata": {
        "id": "Q8dNN8gcXyjX"
      }
    },
    {
      "cell_type": "markdown",
      "source": [
        "5. Train and evaluate the RNN model on short sequences"
      ],
      "metadata": {
        "collapsed": false,
        "id": "0rR66nvcXyjY"
      }
    },
    {
      "cell_type": "code",
      "execution_count": 35,
      "outputs": [
        {
          "output_type": "stream",
          "name": "stdout",
          "text": [
            "\n",
            "Training Elman RNN model on short sequences:\n",
            "Epoch 1/5\n",
            "157/157 [==============================] - 11s 61ms/step - loss: 0.6499 - accuracy: 0.6137 - val_loss: 0.5549 - val_accuracy: 0.7576\n",
            "Epoch 2/5\n",
            "157/157 [==============================] - 7s 47ms/step - loss: 0.4263 - accuracy: 0.8127 - val_loss: 0.4532 - val_accuracy: 0.8066\n",
            "Epoch 3/5\n",
            "157/157 [==============================] - 8s 49ms/step - loss: 0.3133 - accuracy: 0.8703 - val_loss: 0.3758 - val_accuracy: 0.8304\n",
            "Epoch 4/5\n",
            "157/157 [==============================] - 6s 41ms/step - loss: 0.2553 - accuracy: 0.8965 - val_loss: 0.4230 - val_accuracy: 0.8260\n",
            "Epoch 5/5\n",
            "157/157 [==============================] - 7s 47ms/step - loss: 0.2236 - accuracy: 0.9143 - val_loss: 0.3914 - val_accuracy: 0.8350\n",
            "782/782 [==============================] - 7s 9ms/step - loss: 0.3885 - accuracy: 0.8369\n"
          ]
        }
      ],
      "source": [
        "print(\"\\nTraining Elman RNN model on short sequences:\")\n",
        "rnn_model_elman_short = build_elman_rnn_model()\n",
        "loss_elman_short, accuracy_elman_short, history_elman_short = train_and_evaluate_model(\n",
        "    rnn_model_elman_short, x_train_short, y_train, x_test_short, y_test\n",
        ")"
      ],
      "metadata": {
        "colab": {
          "base_uri": "https://localhost:8080/"
        },
        "id": "-ArCGJDFXyjY",
        "outputId": "fbfd5b45-6559-4da4-bdf1-07b2015a6acd"
      }
    },
    {
      "cell_type": "code",
      "source": [
        "print(\"\\nTraining Jordan RNN model on short sequences:\")\n",
        "rnn_model_jordan_short = build_jordan_rnn_model()\n",
        "loss_jordan_short, accuracy_jordan_short, history_jordan_short = train_and_evaluate_model(\n",
        "    rnn_model_jordan_short, x_train_short, y_train, x_test_short, y_test\n",
        ")"
      ],
      "metadata": {
        "colab": {
          "base_uri": "https://localhost:8080/"
        },
        "id": "Th2_9IRnZfwD",
        "outputId": "47e7435a-2af7-4470-9727-d9abbce0de0f"
      },
      "execution_count": 40,
      "outputs": [
        {
          "output_type": "stream",
          "name": "stdout",
          "text": [
            "\n",
            "Training Jordan RNN model on short sequences:\n",
            "Epoch 1/5\n",
            "157/157 [==============================] - 11s 56ms/step - loss: 0.6099 - accuracy: 0.6980 - val_loss: 0.4411 - val_accuracy: 0.8012\n",
            "Epoch 2/5\n",
            "157/157 [==============================] - 8s 54ms/step - loss: 0.3709 - accuracy: 0.8382 - val_loss: 0.3667 - val_accuracy: 0.8356\n",
            "Epoch 3/5\n",
            "157/157 [==============================] - 9s 58ms/step - loss: 0.2964 - accuracy: 0.8796 - val_loss: 0.3816 - val_accuracy: 0.8280\n",
            "Epoch 4/5\n",
            "157/157 [==============================] - 8s 54ms/step - loss: 0.2547 - accuracy: 0.9000 - val_loss: 0.3613 - val_accuracy: 0.8362\n",
            "Epoch 5/5\n",
            "157/157 [==============================] - 10s 62ms/step - loss: 0.2154 - accuracy: 0.9178 - val_loss: 0.3974 - val_accuracy: 0.8286\n",
            "782/782 [==============================] - 8s 10ms/step - loss: 0.4037 - accuracy: 0.8247\n"
          ]
        }
      ]
    },
    {
      "cell_type": "code",
      "source": [
        "print(\"\\nTraining Bidirectional RNN model on short sequences:\")\n",
        "rnn_model_bidirectional_short = build_bidirectional_rnn_model()\n",
        "loss_bidirectional_short, accuracy_bidirectional_short, history_bidirectional_short = train_and_evaluate_model(\n",
        "    rnn_model_bidirectional_short, x_train_short, y_train, x_test_short, y_test\n",
        ")\n"
      ],
      "metadata": {
        "colab": {
          "base_uri": "https://localhost:8080/"
        },
        "id": "36DIQe5VZyOK",
        "outputId": "1445f076-6093-43bc-d671-480062728b21"
      },
      "execution_count": 41,
      "outputs": [
        {
          "output_type": "stream",
          "name": "stdout",
          "text": [
            "\n",
            "Training Bidirectional RNN model on short sequences:\n",
            "Epoch 1/5\n",
            "157/157 [==============================] - 16s 80ms/step - loss: 0.5671 - accuracy: 0.6894 - val_loss: 0.3920 - val_accuracy: 0.8276\n",
            "Epoch 2/5\n",
            "157/157 [==============================] - 12s 76ms/step - loss: 0.3301 - accuracy: 0.8634 - val_loss: 0.3539 - val_accuracy: 0.8408\n",
            "Epoch 3/5\n",
            "157/157 [==============================] - 12s 76ms/step - loss: 0.2601 - accuracy: 0.8956 - val_loss: 0.3570 - val_accuracy: 0.8400\n",
            "Epoch 4/5\n",
            "157/157 [==============================] - 12s 77ms/step - loss: 0.2248 - accuracy: 0.9118 - val_loss: 0.3745 - val_accuracy: 0.8434\n",
            "Epoch 5/5\n",
            "157/157 [==============================] - 12s 80ms/step - loss: 0.1887 - accuracy: 0.9272 - val_loss: 0.4410 - val_accuracy: 0.8302\n",
            "782/782 [==============================] - 11s 13ms/step - loss: 0.4451 - accuracy: 0.8294\n"
          ]
        }
      ]
    },
    {
      "cell_type": "markdown",
      "source": [
        "6. Train and evaluate the RNN model on long sequences"
      ],
      "metadata": {
        "collapsed": false,
        "id": "siRNyFW5Xyjc"
      }
    },
    {
      "cell_type": "code",
      "execution_count": 44,
      "outputs": [
        {
          "output_type": "stream",
          "name": "stdout",
          "text": [
            "\n",
            "Training Elman RNN model on long sequences:\n",
            "Epoch 1/5\n",
            "157/157 [==============================] - 34s 206ms/step - loss: 0.6366 - accuracy: 0.6308 - val_loss: 0.4835 - val_accuracy: 0.7758\n",
            "Epoch 2/5\n",
            "157/157 [==============================] - 32s 205ms/step - loss: 0.4029 - accuracy: 0.8188 - val_loss: 0.3836 - val_accuracy: 0.8326\n",
            "Epoch 3/5\n",
            "157/157 [==============================] - 33s 209ms/step - loss: 0.3715 - accuracy: 0.8431 - val_loss: 0.3785 - val_accuracy: 0.8516\n",
            "Epoch 4/5\n",
            "157/157 [==============================] - 34s 214ms/step - loss: 0.2820 - accuracy: 0.8814 - val_loss: 0.3998 - val_accuracy: 0.8504\n",
            "Epoch 5/5\n",
            "157/157 [==============================] - 31s 198ms/step - loss: 0.2365 - accuracy: 0.9059 - val_loss: 0.3295 - val_accuracy: 0.8662\n",
            "782/782 [==============================] - 24s 31ms/step - loss: 0.3330 - accuracy: 0.8631\n"
          ]
        }
      ],
      "source": [
        "print(\"\\nTraining Elman RNN model on long sequences:\")\n",
        "rnn_model_elman_long = build_elman_rnn_model()\n",
        "loss_elman_long, accuracy_elman_long, history_elman_long = train_and_evaluate_model(\n",
        "    rnn_model_elman_long, x_train_long, y_train, x_test_long, y_test\n",
        ")"
      ],
      "metadata": {
        "colab": {
          "base_uri": "https://localhost:8080/"
        },
        "id": "nDR3B8MPXyjc",
        "outputId": "60765a95-e7d0-4699-e5ee-d6ef6380fe49"
      }
    },
    {
      "cell_type": "code",
      "source": [
        "print(\"\\nTraining Jordan RNN model on long sequences:\")\n",
        "rnn_model_jordan_long = build_jordan_rnn_model()\n",
        "loss_jordan_long, accuracy_jordan_long, history_jordan_long = train_and_evaluate_model(\n",
        "    rnn_model_jordan_long, x_train_long, y_train, x_test_long, y_test\n",
        ")"
      ],
      "metadata": {
        "colab": {
          "base_uri": "https://localhost:8080/"
        },
        "id": "f4CTVQ2UZ-c1",
        "outputId": "ea56fa1a-3456-466d-9c75-301b2c024991"
      },
      "execution_count": 42,
      "outputs": [
        {
          "output_type": "stream",
          "name": "stdout",
          "text": [
            "\n",
            "Training Jordan RNN model on long sequences:\n",
            "Epoch 1/5\n",
            "157/157 [==============================] - 46s 279ms/step - loss: 0.5902 - accuracy: 0.7426 - val_loss: 0.3981 - val_accuracy: 0.8180\n",
            "Epoch 2/5\n",
            "157/157 [==============================] - 38s 244ms/step - loss: 0.3377 - accuracy: 0.8557 - val_loss: 0.3233 - val_accuracy: 0.8632\n",
            "Epoch 3/5\n",
            "157/157 [==============================] - 39s 251ms/step - loss: 0.2537 - accuracy: 0.8986 - val_loss: 0.2983 - val_accuracy: 0.8744\n",
            "Epoch 4/5\n",
            "157/157 [==============================] - 38s 242ms/step - loss: 0.2017 - accuracy: 0.9225 - val_loss: 0.2932 - val_accuracy: 0.8772\n",
            "Epoch 5/5\n",
            "157/157 [==============================] - 37s 233ms/step - loss: 0.1650 - accuracy: 0.9403 - val_loss: 0.3521 - val_accuracy: 0.8696\n",
            "782/782 [==============================] - 28s 36ms/step - loss: 0.3630 - accuracy: 0.8612\n"
          ]
        }
      ]
    },
    {
      "cell_type": "code",
      "source": [
        "print(\"\\nTraining Bidirectional RNN model on long sequences:\")\n",
        "rnn_model_bidirectional_long = build_bidirectional_rnn_model()\n",
        "loss_bidirectional_long, accuracy_bidirectional_long, history_bidirectional_long = train_and_evaluate_model(\n",
        "    rnn_model_bidirectional_long, x_train_long, y_train, x_test_long, y_test\n",
        ")"
      ],
      "metadata": {
        "colab": {
          "base_uri": "https://localhost:8080/"
        },
        "id": "w6cgfiNdaIvc",
        "outputId": "fc57ced9-2351-4763-e854-0aad7b815603"
      },
      "execution_count": 43,
      "outputs": [
        {
          "output_type": "stream",
          "name": "stdout",
          "text": [
            "\n",
            "Training Bidirectional RNN model on long sequences:\n",
            "Epoch 1/5\n",
            "157/157 [==============================] - 61s 370ms/step - loss: 0.6470 - accuracy: 0.6236 - val_loss: 0.5020 - val_accuracy: 0.7792\n",
            "Epoch 2/5\n",
            "157/157 [==============================] - 58s 373ms/step - loss: 0.5086 - accuracy: 0.7579 - val_loss: 0.5077 - val_accuracy: 0.7532\n",
            "Epoch 3/5\n",
            "157/157 [==============================] - 57s 366ms/step - loss: 0.3837 - accuracy: 0.8312 - val_loss: 0.3763 - val_accuracy: 0.8276\n",
            "Epoch 4/5\n",
            "157/157 [==============================] - 57s 361ms/step - loss: 0.2953 - accuracy: 0.8756 - val_loss: 0.3805 - val_accuracy: 0.8484\n",
            "Epoch 5/5\n",
            "157/157 [==============================] - 59s 376ms/step - loss: 0.3204 - accuracy: 0.8643 - val_loss: 0.3644 - val_accuracy: 0.8448\n",
            "782/782 [==============================] - 38s 49ms/step - loss: 0.3623 - accuracy: 0.8470\n"
          ]
        }
      ]
    },
    {
      "cell_type": "markdown",
      "source": [
        "7. Compare the results"
      ],
      "metadata": {
        "collapsed": false,
        "id": "JCzLPaJCXyjd"
      }
    },
    {
      "cell_type": "code",
      "execution_count": 45,
      "outputs": [
        {
          "output_type": "stream",
          "name": "stdout",
          "text": [
            "\n",
            "Results for Elman RNN on Short Sequences:\n",
            "Loss: 0.3885, Accuracy: 0.8369\n",
            "\n",
            "Results for Elman RNN on Long Sequences:\n",
            "Loss: 0.3330, Accuracy: 0.8631\n",
            "\n",
            "Results for Jordan RNN on Short Sequences:\n",
            "Loss: 0.4037, Accuracy: 0.8247\n",
            "\n",
            "Results for Jordan RNN on Long Sequences:\n",
            "Loss: 0.3630, Accuracy: 0.8612\n",
            "\n",
            "Results for Bidirectional RNN on Short Sequences:\n",
            "Loss: 0.4451, Accuracy: 0.8294\n",
            "\n",
            "Results for Bidirectional RNN on Long Sequences:\n",
            "Loss: 0.3623, Accuracy: 0.8470\n"
          ]
        }
      ],
      "source": [
        "print(\"\\nResults for Elman RNN on Short Sequences:\")\n",
        "print(f\"Loss: {loss_elman_short:.4f}, Accuracy: {accuracy_elman_short:.4f}\")\n",
        "\n",
        "print(\"\\nResults for Elman RNN on Long Sequences:\")\n",
        "print(f\"Loss: {loss_elman_long:.4f}, Accuracy: {accuracy_elman_long:.4f}\")\n",
        "\n",
        "print(\"\\nResults for Jordan RNN on Short Sequences:\")\n",
        "print(f\"Loss: {loss_jordan_short:.4f}, Accuracy: {accuracy_jordan_short:.4f}\")\n",
        "\n",
        "print(\"\\nResults for Jordan RNN on Long Sequences:\")\n",
        "print(f\"Loss: {loss_jordan_long:.4f}, Accuracy: {accuracy_jordan_long:.4f}\")\n",
        "\n",
        "print(\"\\nResults for Bidirectional RNN on Short Sequences:\")\n",
        "print(f\"Loss: {loss_bidirectional_short:.4f}, Accuracy: {accuracy_bidirectional_short:.4f}\")\n",
        "\n",
        "print(\"\\nResults for Bidirectional RNN on Long Sequences:\")\n",
        "print(f\"Loss: {loss_bidirectional_long:.4f}, Accuracy: {accuracy_bidirectional_long:.4f}\")\n"
      ],
      "metadata": {
        "colab": {
          "base_uri": "https://localhost:8080/"
        },
        "id": "7hFB4ubbXyjd",
        "outputId": "a6f3cb18-b453-4f0d-a362-e40f7434e5a5"
      }
    },
    {
      "cell_type": "code",
      "source": [],
      "metadata": {
        "id": "E-K7pkuai02N"
      },
      "execution_count": null,
      "outputs": []
    }
  ],
  "metadata": {
    "kernelspec": {
      "display_name": "Python 3",
      "language": "python",
      "name": "python3"
    },
    "language_info": {
      "codemirror_mode": {
        "name": "ipython",
        "version": 2
      },
      "file_extension": ".py",
      "mimetype": "text/x-python",
      "name": "python",
      "nbconvert_exporter": "python",
      "pygments_lexer": "ipython2",
      "version": "2.7.6"
    },
    "colab": {
      "provenance": []
    }
  },
  "nbformat": 4,
  "nbformat_minor": 0
}